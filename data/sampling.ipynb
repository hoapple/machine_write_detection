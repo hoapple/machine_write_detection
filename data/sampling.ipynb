{
 "cells": [
  {
   "cell_type": "code",
   "execution_count": 2,
   "metadata": {},
   "outputs": [],
   "source": [
    "import imblearn\n",
    "from imblearn.over_sampling import RandomOverSampler, SMOTE\n",
    "from imblearn.under_sampling import RandomUnderSampler, NearMiss"
   ]
  },
  {
   "cell_type": "code",
   "execution_count": null,
   "metadata": {},
   "outputs": [],
   "source": [
    "# https://imbalanced-learn.org/stable/references/generated/imblearn.over_sampling.RandomOverSampler.html\n",
    "ros = RandomOverSampler(random_state=None)\n",
    "X_train_ros, y_train_ros = ros.fit_resample(X_train, y_train)\n"
   ]
  },
  {
   "cell_type": "code",
   "execution_count": null,
   "metadata": {},
   "outputs": [],
   "source": [
    "# SMOTE takes each minority sample and introduces synthetic data points connecting the minority sample and its nearest neighbors(k is chosen randomly)\n",
    "smote = SMOTE(random_state=None)\n",
    "X_train_smote, y_train_smote = smote.fit_resample(X_train, y_train)"
   ]
  },
  {
   "cell_type": "code",
   "execution_count": null,
   "metadata": {},
   "outputs": [],
   "source": [
    "rus = RandomUnderSampler(random_state=None)\n",
    "X_train_rus, y_train_rus = rus.fit_resample(X_train, y_train)"
   ]
  },
  {
   "cell_type": "code",
   "execution_count": null,
   "metadata": {},
   "outputs": [],
   "source": [
    "\"\"\"\n",
    "   Use Knn to do under sampling\n",
    "   Version 1 select positive samples for which the average distance to the n closest samples of the negative class is the smallest\n",
    "   \n",
    "   Version 2 select positive samples for which the average distance to the n farthest samples of the negative class is the smallest\n",
    "   \n",
    "   Version 3 is a two step algorithm. First for each negative sample, their M nearest-neighbors will be kept. Then, the positive\n",
    "   samoles selected are the one for which the average distrance to the N nearest-neighbors is the largest.\n",
    "   \n",
    "\"\"\"\n",
    "nm = NearMiss(version = 3)\n",
    "X_train_nm, y_train_nm = nm.fit_resample(X_train, y_train)"
   ]
  }
 ],
 "metadata": {
  "kernelspec": {
   "display_name": "Python 3",
   "language": "python",
   "name": "python3"
  },
  "language_info": {
   "codemirror_mode": {
    "name": "ipython",
    "version": 3
   },
   "file_extension": ".py",
   "mimetype": "text/x-python",
   "name": "python",
   "nbconvert_exporter": "python",
   "pygments_lexer": "ipython3",
   "version": "3.10.10"
  },
  "orig_nbformat": 4
 },
 "nbformat": 4,
 "nbformat_minor": 2
}

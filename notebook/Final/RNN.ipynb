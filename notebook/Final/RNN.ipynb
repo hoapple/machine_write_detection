{
  "cells": [
    {
      "cell_type": "markdown",
      "metadata": {
        "id": "lOx_vKCCKcSg"
      },
      "source": [
        "# RNN Modelling\n",
        "- Data\n",
        "    - Domain 1\n",
        "    - Domain 2\n",
        "    - Domain 1 & 2\n",
        "\n",
        "- Data Processing\n",
        "    - Sequence\n",
        "\n",
        "- Parameters\n",
        "    - Learning rate: 0.0001\n",
        "    - Threshold: 0.5\n",
        "\n",
        "- Validation\n",
        "    - cross validation\n",
        "    \n",
        "- Visualisation\n",
        "    - Accuracy Graph\n",
        "    - Confusion Matrix\n",
        "    - ROC\n"
      ]
    },
    {
      "cell_type": "markdown",
      "metadata": {
        "id": "DSlCs9JOK1qI"
      },
      "source": []
    },
    {
      "cell_type": "markdown",
      "metadata": {
        "id": "BPyhsvtsKcSh"
      },
      "source": [
        "## preprocess"
      ]
    },
    {
      "cell_type": "code",
      "execution_count": 54,
      "metadata": {
        "colab": {
          "base_uri": "https://localhost:8080/"
        },
        "id": "fsfdi6I2KtH0",
        "outputId": "66d3a048-4fbc-4c6a-a9ab-b80deb4d1606"
      },
      "outputs": [
        {
          "ename": "ModuleNotFoundError",
          "evalue": "No module named 'google.colab'",
          "output_type": "error",
          "traceback": [
            "\u001b[0;31m---------------------------------------------------------------------------\u001b[0m",
            "\u001b[0;31mModuleNotFoundError\u001b[0m                       Traceback (most recent call last)",
            "\u001b[1;32m/Users/jonghopark/Documents/GitHub/CharGPT-SPEAKER/machine_write_detection/notebook/Final/RNN.ipynb Cell 4\u001b[0m line \u001b[0;36m1\n\u001b[0;32m----> <a href='vscode-notebook-cell:/Users/jonghopark/Documents/GitHub/CharGPT-SPEAKER/machine_write_detection/notebook/Final/RNN.ipynb#W3sZmlsZQ%3D%3D?line=0'>1</a>\u001b[0m \u001b[39mfrom\u001b[39;00m \u001b[39mgoogle\u001b[39;00m\u001b[39m.\u001b[39;00m\u001b[39mcolab\u001b[39;00m \u001b[39mimport\u001b[39;00m drive\n\u001b[1;32m      <a href='vscode-notebook-cell:/Users/jonghopark/Documents/GitHub/CharGPT-SPEAKER/machine_write_detection/notebook/Final/RNN.ipynb#W3sZmlsZQ%3D%3D?line=2'>3</a>\u001b[0m \u001b[39m# Read data from Google Drive\u001b[39;00m\n\u001b[1;32m      <a href='vscode-notebook-cell:/Users/jonghopark/Documents/GitHub/CharGPT-SPEAKER/machine_write_detection/notebook/Final/RNN.ipynb#W3sZmlsZQ%3D%3D?line=3'>4</a>\u001b[0m drive\u001b[39m.\u001b[39mmount(\u001b[39m'\u001b[39m\u001b[39m/content/drive\u001b[39m\u001b[39m'\u001b[39m)\n",
            "\u001b[0;31mModuleNotFoundError\u001b[0m: No module named 'google.colab'"
          ]
        }
      ],
      "source": [
        "from google.colab import drive\n",
        "\n",
        "# Read data from Google Drive\n",
        "drive.mount('/content/drive')"
      ]
    },
    {
      "cell_type": "code",
      "execution_count": 55,
      "metadata": {
        "id": "R3TdMRAOKcSi"
      },
      "outputs": [],
      "source": [
        "import json\n",
        "import numpy as np\n",
        "import  tensorflow as tf\n",
        "import keras\n",
        "from keras import layers"
      ]
    },
    {
      "cell_type": "code",
      "execution_count": 56,
      "metadata": {
        "id": "43R1aMX3KcSi"
      },
      "outputs": [],
      "source": [
        "# imbalanced learning\n",
        "import imblearn\n",
        "from imblearn.over_sampling import RandomOverSampler, SMOTE\n",
        "from imblearn.under_sampling import RandomUnderSampler, NearMiss"
      ]
    },
    {
      "cell_type": "code",
      "execution_count": 57,
      "metadata": {
        "id": "uVQgQ9W6KcSj"
      },
      "outputs": [],
      "source": [
        "text = []\n",
        "label = []\n",
        "GOOGLE_DRIVE = False\n",
        "\n",
        "if GOOGLE_DRIVE:\n",
        "    d1_path = \"drive/MyDrive/data/domain1_train.json\"\n",
        "    d2_path = \"drive/MyDrive/data/domain2_train.json\"\n",
        "    test_path = \"drive/MyDrive/data/test_set.json\"\n",
        "else:\n",
        "    d1_path = \"../../data/domain1_train.json\"\n",
        "    d2_path = \"../../data/domain2_train.json\"\n",
        "    test_path = \"../../data/test_set.json\"    \n",
        "\n",
        "# 0 machine model1, 1 human\n",
        "with open(d1_path) as f:\n",
        "    for line in f:\n",
        "        # read line by line\n",
        "        data = json.loads(line)\n",
        "\n",
        "        # add values\n",
        "        text.append(data[\"text\"])\n",
        "        label.append(data[\"label\"])\n",
        "\n",
        "# 2-8 machine 9 human\n",
        "with open(d2_path) as f:\n",
        "    for line in f:\n",
        "        # read line by line\n",
        "        data = json.loads(line)\n",
        "\n",
        "        # add values\n",
        "        text.append(data[\"text\"])\n",
        "        if \"model\" in data.keys():\n",
        "            label.append(data[\"model\"]+2)\n",
        "        else:\n",
        "            label.append(9)"
      ]
    },
    {
      "cell_type": "code",
      "execution_count": 58,
      "metadata": {
        "colab": {
          "base_uri": "https://localhost:8080/"
        },
        "id": "3aS3zG1DKcSj",
        "outputId": "635af642-c359-4301-d7fe-dad6927c510a"
      },
      "outputs": [
        {
          "name": "stdout",
          "output_type": "stream",
          "text": [
            "Shape of X: (34400, 200)\n",
            "Shape of y (34400,)\n",
            "After resampling, Shape of X: (97500, 200)\n",
            "After resampling, Shape of y (97500,)\n"
          ]
        }
      ],
      "source": [
        "from sklearn.model_selection import train_test_split\n",
        "\n",
        "# Parameters\n",
        "SEQUENCE_LENGTH = 200\n",
        "EMBEDDING_SIZE = 128\n",
        "HIDDEN_SIZE = 256\n",
        "OUTPUT_SIZE = 2  # binary classification\n",
        "BATCH_SIZE = 64\n",
        "EPOCHS = 10\n",
        "LEARNING_RATE = 0.0001\n",
        "\n",
        "# Padding for the fixed length data\n",
        "X = tf.keras.utils.pad_sequences(text, padding=\"post\", maxlen=SEQUENCE_LENGTH, value=5000)\n",
        "y = np.array(label).ravel()\n",
        "\n",
        "print(\"Shape of X:\", X.shape)\n",
        "print(\"Shape of y\", y.shape)\n",
        "\n",
        "\n",
        "# Split train and test dataset\n",
        "X_data, X_test, y_data, y_test = train_test_split(X, y, test_size=0.20, random_state=42)\n",
        "\n",
        "X_data, y_data = X, y\n",
        "\n",
        "# Over sampling to Balance\n",
        "ros = RandomOverSampler(random_state=0)\n",
        "sm = SMOTE(random_state=0)\n",
        "\n",
        "# Under sampling to balance\n",
        "rus = RandomUnderSampler(random_state=0)\n",
        "\n",
        "# Balance between models\n",
        "X_data, y_data = ros.fit_resample(X_data, y_data)\n",
        "print(\"After resampling, Shape of X:\", X_data.shape)\n",
        "print(\"After resampling, Shape of y\", y_data.shape)"
      ]
    },
    {
      "cell_type": "code",
      "execution_count": 59,
      "metadata": {
        "id": "i5BP2vQVKcSk"
      },
      "outputs": [
        {
          "name": "stdout",
          "output_type": "stream",
          "text": [
            "After resampling, Shape of X: (39000, 200)\n",
            "After resampling, Shape of y (39000,)\n"
          ]
        }
      ],
      "source": [
        "# Balance between labels\n",
        "\n",
        "for i in range(len(y_data)):\n",
        "    if y_data[i] == 1 or y_data[i] == 9:\n",
        "        y_data[i] = 1\n",
        "    else:\n",
        "        y_data[i] = 0\n",
        "\n",
        "X_data, y_data = rus.fit_resample(X_data, y_data)\n",
        "print(\"After resampling, Shape of X:\", X_data.shape)\n",
        "print(\"After resampling, Shape of y\", y_data.shape)\n",
        "\n",
        "X_train, y_train = X_data, y_data"
      ]
    },
    {
      "cell_type": "code",
      "execution_count": 60,
      "metadata": {
        "id": "owtTu7sY5gkV"
      },
      "outputs": [],
      "source": [
        "for i in range(len(y_test)):\n",
        "    if y_test[i] == 1 or y_test[i] == 9:\n",
        "        y_test[i] = 1\n",
        "    else:\n",
        "        y_test[i] = 0"
      ]
    },
    {
      "cell_type": "code",
      "execution_count": 61,
      "metadata": {
        "colab": {
          "base_uri": "https://localhost:8080/"
        },
        "id": "Fx6mi3mJLSbD",
        "outputId": "b6d05534-d68b-4a0c-b97c-f2215bd8ceb9"
      },
      "outputs": [
        {
          "data": {
            "text/plain": [
              "Counter({0: 19500, 1: 19500})"
            ]
          },
          "execution_count": 61,
          "metadata": {},
          "output_type": "execute_result"
        }
      ],
      "source": [
        "from collections import Counter\n",
        "\n",
        "Counter(y_train)"
      ]
    },
    {
      "cell_type": "markdown",
      "metadata": {
        "id": "o8yGbSY3KcSl"
      },
      "source": [
        "## RNN build"
      ]
    },
    {
      "cell_type": "code",
      "execution_count": 62,
      "metadata": {
        "id": "6JaUOHDNUOHi"
      },
      "outputs": [],
      "source": [
        "METRICS = [\n",
        "      keras.metrics.BinaryCrossentropy(name='cross entropy'),  # same as model's loss\n",
        "      keras.metrics.MeanSquaredError(name='Brier score'),\n",
        "      keras.metrics.TruePositives(name='tp'),\n",
        "      keras.metrics.FalsePositives(name='fp'),\n",
        "      keras.metrics.TrueNegatives(name='tn'),\n",
        "      keras.metrics.FalseNegatives(name='fn'),\n",
        "      keras.metrics.BinaryAccuracy(name='accuracy'),\n",
        "      keras.metrics.Precision(name='precision'),\n",
        "      keras.metrics.Recall(name='recall'),\n",
        "      keras.metrics.AUC(name='auc'),\n",
        "      keras.metrics.AUC(name='prc', curve='PR'), # precision-recall curve\n",
        "]\n",
        "pos = list(y_train).count(1)\n",
        "neg = list(y_train).count(0)\n",
        "total = pos + neg\n",
        "initial_bias = np.log([pos/neg])"
      ]
    },
    {
      "cell_type": "code",
      "execution_count": 63,
      "metadata": {
        "colab": {
          "base_uri": "https://localhost:8080/"
        },
        "id": "eFvh7QOrao7E",
        "outputId": "16c9df7f-a36c-45d6-f3f3-d515c369eb01"
      },
      "outputs": [
        {
          "name": "stdout",
          "output_type": "stream",
          "text": [
            "Weight for class 0: 1.00\n",
            "Weight for class 1: 1.00\n"
          ]
        }
      ],
      "source": [
        "# Scaling by total/2 helps keep the loss to a similar magnitude.\n",
        "# The sum of the weights of all examples stays the same.\n",
        "weight_for_0 = (1 / neg) * (total / 2.0)\n",
        "weight_for_1 = (1 / pos) * (total / 2.0)\n",
        "\n",
        "class_weight = {0: weight_for_0, 1: weight_for_1}\n",
        "\n",
        "print('Weight for class 0: {:.2f}'.format(weight_for_0))\n",
        "print('Weight for class 1: {:.2f}'.format(weight_for_1))"
      ]
    },
    {
      "cell_type": "code",
      "execution_count": 64,
      "metadata": {
        "colab": {
          "background_save": true
        },
        "id": "1VaSimI8-20a"
      },
      "outputs": [],
      "source": [
        "model = tf.keras.Sequential([\n",
        "    tf.keras.layers.Embedding(\n",
        "        input_dim=5001,\n",
        "        output_dim=64,\n",
        "        # Use masking to handle the variable sequence lengths\n",
        "        mask_zero=False),\n",
        "    layers.Masking(mask_value=5000),\n",
        "    tf.keras.layers.Bidirectional(tf.keras.layers.LSTM(64)),\n",
        "    tf.keras.layers.Dense(64, activation='relu'),\n",
        "    tf.keras.layers.Dropout(0.5),\n",
        "    tf.keras.layers.Dense(1)#, bias_initializer=initial_bias)\n",
        "])\n",
        "model.compile(loss=tf.keras.losses.BinaryCrossentropy(from_logits=True),\n",
        "              optimizer=tf.keras.optimizers.legacy.Adam(LEARNING_RATE),\n",
        "              metrics=METRICS)"
      ]
    },
    {
      "cell_type": "code",
      "execution_count": 65,
      "metadata": {
        "colab": {
          "base_uri": "https://localhost:8080/"
        },
        "id": "T4uSTmS1KcSl",
        "outputId": "19721c7d-65a7-4bf2-e9e3-1d2079250cec"
      },
      "outputs": [
        {
          "name": "stdout",
          "output_type": "stream",
          "text": [
            "Epoch 1/5\n",
            "1219/1219 [==============================] - 82s 64ms/step - loss: 0.5315 - cross entropy: 2.9716 - Brier score: 1.6764 - tp: 9618.0000 - fp: 1466.0000 - tn: 18034.0000 - fn: 9882.0000 - accuracy: 0.7090 - precision: 0.8677 - recall: 0.4932 - auc: 0.7673 - prc: 0.7885\n",
            "Epoch 2/5\n",
            "1219/1219 [==============================] - 76s 62ms/step - loss: 0.4084 - cross entropy: 2.2612 - Brier score: 3.6033 - tp: 13542.0000 - fp: 1599.0000 - tn: 17901.0000 - fn: 5958.0000 - accuracy: 0.8062 - precision: 0.8944 - recall: 0.6945 - auc: 0.8405 - prc: 0.8500\n",
            "Epoch 3/5\n",
            "1219/1219 [==============================] - 78s 64ms/step - loss: 0.3448 - cross entropy: 1.8332 - Brier score: 5.5000 - tp: 14802.0000 - fp: 1367.0000 - tn: 18133.0000 - fn: 4698.0000 - accuracy: 0.8445 - precision: 0.9155 - recall: 0.7591 - auc: 0.8742 - prc: 0.8802\n",
            "Epoch 4/5\n",
            "1219/1219 [==============================] - 79s 65ms/step - loss: 0.3042 - cross entropy: 1.5545 - Brier score: 6.9216 - tp: 15485.0000 - fp: 1312.0000 - tn: 18188.0000 - fn: 4015.0000 - accuracy: 0.8634 - precision: 0.9219 - recall: 0.7941 - auc: 0.8938 - prc: 0.8951\n",
            "Epoch 5/5\n",
            "1219/1219 [==============================] - 80s 65ms/step - loss: 0.2611 - cross entropy: 1.1919 - Brier score: 9.1174 - tp: 16360.0000 - fp: 1268.0000 - tn: 18232.0000 - fn: 3140.0000 - accuracy: 0.8870 - precision: 0.9281 - recall: 0.8390 - auc: 0.9189 - prc: 0.9149\n"
          ]
        }
      ],
      "source": [
        "history = model.fit(X_train, y_train, epochs=5, validation_steps=5)"
      ]
    },
    {
      "cell_type": "code",
      "execution_count": 66,
      "metadata": {},
      "outputs": [],
      "source": [
        "tp = history.history['tp'][-1]\n",
        "fp = history.history['fp'][-1]\n",
        "tn = history.history['tn'][-1]\n",
        "fn = history.history['fn'][-1]\n",
        "acc = history.history['accuracy'][-1]\n"
      ]
    },
    {
      "cell_type": "code",
      "execution_count": 67,
      "metadata": {
        "colab": {
          "base_uri": "https://localhost:8080/"
        },
        "id": "WPS8Q7eV5vFA",
        "outputId": "707dffff-ca71-49ae-b103-6baeec1084bd"
      },
      "outputs": [
        {
          "name": "stdout",
          "output_type": "stream",
          "text": [
            "215/215 - 4s - loss: 0.3107 - cross entropy: 1.2978 - Brier score: 11.5112 - tp: 2286.0000 - fp: 619.0000 - tn: 3870.0000 - fn: 105.0000 - accuracy: 0.8948 - precision: 0.7869 - recall: 0.9561 - auc: 0.9257 - prc: 0.8049 - 4s/epoch - 19ms/step\n"
          ]
        },
        {
          "data": {
            "text/plain": [
              "[0.310682475566864,\n",
              " 1.297810435295105,\n",
              " 11.511202812194824,\n",
              " 2286.0,\n",
              " 619.0,\n",
              " 3870.0,\n",
              " 105.0,\n",
              " 0.8947674632072449,\n",
              " 0.786919116973877,\n",
              " 0.9560853242874146,\n",
              " 0.9257307052612305,\n",
              " 0.8048774003982544]"
            ]
          },
          "execution_count": 67,
          "metadata": {},
          "output_type": "execute_result"
        }
      ],
      "source": [
        "model.evaluate(X_test, y_test, verbose=2)"
      ]
    },
    {
      "cell_type": "markdown",
      "metadata": {},
      "source": [
        "## ROC"
      ]
    },
    {
      "cell_type": "code",
      "execution_count": 68,
      "metadata": {},
      "outputs": [
        {
          "name": "stdout",
          "output_type": "stream",
          "text": [
            "215/215 [==============================] - 4s 15ms/step\n"
          ]
        },
        {
          "data": {
            "image/png": "[encoded data removed]",
            "text/plain": [
              "<Figure size 640x480 with 1 Axes>"
            ]
          },
          "metadata": {},
          "output_type": "display_data"
        },
        {
          "name": "stdout",
          "output_type": "stream",
          "text": [
            "Thresholds: [ 8.6748     7.6748     6.4877777 ... -5.248873  -5.2492943 -5.8899207]\n"
          ]
        }
      ],
      "source": [
        "from sklearn.metrics import roc_curve, auc\n",
        "import matplotlib.pyplot as plt\n",
        "\n",
        "y_probs = model.predict(X_test)\n",
        "fpr, tpr, thresholds = roc_curve(y_test, y_probs)\n",
        "roc_auc = auc(fpr, tpr)\n",
        "\n",
        "# Draw ROC Curve\n",
        "plt.figure()\n",
        "lw = 2\n",
        "plt.plot(fpr, tpr, color='darkorange', lw=lw, label='ROC curve (area = %0.2f)' % roc_auc)\n",
        "plt.plot([0, 1], [0, 1], color='navy', lw=lw, linestyle='--')\n",
        "plt.xlim([0.0, 1.0])\n",
        "plt.ylim([0.0, 1.05])\n",
        "plt.xlabel('False Positive Rate')\n",
        "plt.ylabel('True Positive Rate')\n",
        "plt.title('Receiver Operating Characteristic Curve')\n",
        "plt.legend(loc=\"lower right\")\n",
        "plt.show()\n",
        "print(\"Thresholds:\",thresholds)"
      ]
    },
    {
      "cell_type": "code",
      "execution_count": 69,
      "metadata": {},
      "outputs": [],
      "source": [
        "import pandas as pd\n",
        "import os\n",
        "\n",
        "# Record on csv\n",
        "df = pd.DataFrame({\n",
        "    'n_sequences': [SEQUENCE_LENGTH], \n",
        "    'Learning_rate': [LEARNING_RATE], \n",
        "    '5-fold_cv_score': [acc],\n",
        "    'tn': [tn],\n",
        "    'fp': [fp],\n",
        "    'fn': [fn],\n",
        "    'tp': [tp]\n",
        "    })\n",
        "path = \"./RNN_Records.csv\"\n",
        "exists= not os.path.exists(path)\n",
        "df.to_csv(path, index=False, header=exists, mode='a')\n"
      ]
    },
    {
      "cell_type": "markdown",
      "metadata": {
        "id": "ppx9wUhQKcSm"
      },
      "source": [
        "## process testing data"
      ]
    },
    {
      "cell_type": "code",
      "execution_count": 19,
      "metadata": {
        "colab": {
          "base_uri": "https://localhost:8080/"
        },
        "id": "1XordaOWuhem",
        "outputId": "dfca84fd-bfe5-45b5-91f8-690909c8a903"
      },
      "outputs": [
        {
          "name": "stdout",
          "output_type": "stream",
          "text": [
            "Shape of texts: (1000, 200)\n"
          ]
        }
      ],
      "source": [
        "text = []\n",
        "\n",
        "with open(test_path) as f:\n",
        "    for line in f:\n",
        "        # read line by line\n",
        "        data = json.loads(line)\n",
        "\n",
        "        # add values\n",
        "        text.append(data[\"text\"])\n",
        "\n",
        "texts = tf.keras.utils.pad_sequences(text, padding=\"post\", maxlen=SEQUENCE_LENGTH, value=5000)\n",
        "y = np.array(label).ravel()\n",
        "\n",
        "print(\"Shape of texts:\", texts.shape)"
      ]
    },
    {
      "cell_type": "code",
      "execution_count": 28,
      "metadata": {
        "colab": {
          "base_uri": "https://localhost:8080/"
        },
        "id": "sFAqWyUaKcSn",
        "outputId": "7ceb328a-b7ff-4405-8a24-927e23d34d7e"
      },
      "outputs": [
        {
          "name": "stdout",
          "output_type": "stream",
          "text": [
            "32/32 [==============================] - 2s 53ms/step\n"
          ]
        }
      ],
      "source": [
        "# Predict test data\n",
        "\n",
        "predictions = model.predict(texts)\n"
      ]
    },
    {
      "cell_type": "code",
      "execution_count": 51,
      "metadata": {
        "colab": {
          "base_uri": "https://localhost:8080/"
        },
        "id": "jmpHRflrBIeT",
        "outputId": "ff6a2b37-88bc-4b0a-f38f-f6e06790b0e4"
      },
      "outputs": [
        {
          "data": {
            "text/plain": [
              "464"
            ]
          },
          "execution_count": 51,
          "metadata": {},
          "output_type": "execute_result"
        }
      ],
      "source": [
        "# Adjust prediction for controlling the bias\n",
        "threshold = 0\n",
        "predicted_class = (predictions >= threshold).astype(int)\n",
        "\n",
        "list(predicted_class.flatten()).count(1)"
      ]
    },
    {
      "cell_type": "code",
      "execution_count": 27,
      "metadata": {
        "id": "kBf52TDMKcSn"
      },
      "outputs": [],
      "source": [
        "import csv\n",
        "\n",
        "# Create the desired output format\n",
        "predictions = list(predicted_class.flatten())\n",
        "output = []\n",
        "for idx, pred_class in enumerate(predictions):\n",
        "    output.append({'id': idx, 'class': pred_class})\n",
        "\n",
        "# Save to CSV\n",
        "with open('./result_RNN_predictions-II.csv', 'w', newline='') as csvfile:\n",
        "    fieldnames = ['id', 'class']\n",
        "    writer = csv.DictWriter(csvfile, fieldnames=fieldnames)\n",
        "    writer.writeheader()\n",
        "    for row in output:\n",
        "        writer.writerow(row)"
      ]
    }
  ],
  "metadata": {
    "colab": {
      "machine_shape": "hm",
      "provenance": []
    },
    "kernelspec": {
      "display_name": "Python 3",
      "name": "python3"
    },
    "language_info": {
      "codemirror_mode": {
        "name": "ipython",
        "version": 3
      },
      "file_extension": ".py",
      "mimetype": "text/x-python",
      "name": "python",
      "nbconvert_exporter": "python",
      "pygments_lexer": "ipython3",
      "version": "3.9.12"
    }
  },
  "nbformat": 4,
  "nbformat_minor": 0
}

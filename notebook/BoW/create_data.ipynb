{
 "cells": [
  {
   "cell_type": "code",
   "execution_count": 1,
   "metadata": {},
   "outputs": [],
   "source": [
    "from sklearn.ensemble import RandomForestClassifier\n",
    "from sklearn.model_selection import cross_val_score\n",
    "import json\n",
    "import numpy as np\n",
    "\n",
    "text = []\n",
    "label = []\n",
    "\n",
    "with open(\"../../data/domain1_train.json\") as f:\n",
    "    for line in f:\n",
    "        # read line by line\n",
    "        data = json.loads(line)\n",
    "        \n",
    "        # add values\n",
    "        text.append(data[\"text\"])\n",
    "        label.append(data[\"label\"])\n",
    "\n",
    "with open(\"../../data/domain2_train.json\") as f:\n",
    "    for line in f:\n",
    "        # read line by line\n",
    "        data = json.loads(line)\n",
    "        \n",
    "        # add values\n",
    "        text.append(data[\"text\"])\n",
    "        label.append(data[\"label\"])\n"
   ]
  },
  {
   "cell_type": "code",
   "execution_count": 2,
   "metadata": {},
   "outputs": [
    {
     "name": "stdout",
     "output_type": "stream",
     "text": [
      "instance size: 34401\n"
     ]
    }
   ],
   "source": [
    "vector_sample = [np.arange(5000).tolist()]\n",
    "# vector_sample += text[:100]\n",
    "# vector_sample += text[-100:]\n",
    "vector_sample += text\n",
    "print(\"instance size:\", len(vector_sample))"
   ]
  },
  {
   "cell_type": "code",
   "execution_count": 3,
   "metadata": {},
   "outputs": [
    {
     "name": "stdout",
     "output_type": "stream",
     "text": [
      "Shape of X: (34400, 10000)\n",
      "Shape of y: (34400,)\n"
     ]
    }
   ],
   "source": [
    "from sklearn.feature_extraction.text import CountVectorizer\n",
    "\n",
    "def toStr(n):\n",
    "   return str(n)\n",
    "\n",
    "# Create a Vectorizer Object\n",
    "vectorizer = CountVectorizer(preprocessor= toStr, analyzer=\"word\", token_pattern=r\"(?u)\\b\\w+\\b\", ngram_range=(1, 3), max_features=10000)\n",
    "\n",
    "vectorizer.fit(vector_sample)\n",
    "\n",
    "# Encode the Document\n",
    "vector = vectorizer.transform(text)\n",
    "\n",
    "X = vector.toarray()\n",
    "y = np.array(label).ravel()\n",
    "\n",
    "print(\"Shape of X:\", X.shape)\n",
    "print(\"Shape of y:\", y.shape)\n"
   ]
  },
  {
   "cell_type": "code",
   "execution_count": 4,
   "metadata": {},
   "outputs": [
    {
     "name": "stdout",
     "output_type": "stream",
     "text": [
      "Original dataset shape (34400, 10000)\n",
      "Original dataset samples per class Counter({0: 22500, 1: 11900})\n"
     ]
    },
    {
     "ename": "KeyboardInterrupt",
     "evalue": "",
     "output_type": "error",
     "traceback": [
      "\u001b[0;31m---------------------------------------------------------------------------\u001b[0m",
      "\u001b[0;31mKeyboardInterrupt\u001b[0m                         Traceback (most recent call last)",
      "Cell \u001b[0;32mIn[4], line 16\u001b[0m\n\u001b[1;32m     14\u001b[0m sm \u001b[39m=\u001b[39m SMOTEN(random_state\u001b[39m=\u001b[39m\u001b[39m42\u001b[39m) \u001b[39m# took 406min(7hours)\u001b[39;00m\n\u001b[1;32m     15\u001b[0m \u001b[39m# sm = SMOTE(random_state=42)\u001b[39;00m\n\u001b[0;32m---> 16\u001b[0m X_res, y_res \u001b[39m=\u001b[39m sm\u001b[39m.\u001b[39;49mfit_resample(X, y)\n\u001b[1;32m     17\u001b[0m \u001b[39mprint\u001b[39m(\u001b[39mf\u001b[39m\u001b[39m'\u001b[39m\u001b[39mResampled dataset samples per class \u001b[39m\u001b[39m{\u001b[39;00mCounter(y_res)\u001b[39m}\u001b[39;00m\u001b[39m'\u001b[39m)\n",
      "File \u001b[0;32m~/miniconda3/lib/python3.9/site-packages/imblearn/base.py:208\u001b[0m, in \u001b[0;36mBaseSampler.fit_resample\u001b[0;34m(self, X, y)\u001b[0m\n\u001b[1;32m    187\u001b[0m \u001b[39m\u001b[39m\u001b[39m\"\"\"Resample the dataset.\u001b[39;00m\n\u001b[1;32m    188\u001b[0m \n\u001b[1;32m    189\u001b[0m \u001b[39mParameters\u001b[39;00m\n\u001b[0;32m   (...)\u001b[0m\n\u001b[1;32m    205\u001b[0m \u001b[39m    The corresponding label of `X_resampled`.\u001b[39;00m\n\u001b[1;32m    206\u001b[0m \u001b[39m\"\"\"\u001b[39;00m\n\u001b[1;32m    207\u001b[0m \u001b[39mself\u001b[39m\u001b[39m.\u001b[39m_validate_params()\n\u001b[0;32m--> 208\u001b[0m \u001b[39mreturn\u001b[39;00m \u001b[39msuper\u001b[39;49m()\u001b[39m.\u001b[39;49mfit_resample(X, y)\n",
      "File \u001b[0;32m~/miniconda3/lib/python3.9/site-packages/imblearn/base.py:112\u001b[0m, in \u001b[0;36mSamplerMixin.fit_resample\u001b[0;34m(self, X, y)\u001b[0m\n\u001b[1;32m    106\u001b[0m X, y, binarize_y \u001b[39m=\u001b[39m \u001b[39mself\u001b[39m\u001b[39m.\u001b[39m_check_X_y(X, y)\n\u001b[1;32m    108\u001b[0m \u001b[39mself\u001b[39m\u001b[39m.\u001b[39msampling_strategy_ \u001b[39m=\u001b[39m check_sampling_strategy(\n\u001b[1;32m    109\u001b[0m     \u001b[39mself\u001b[39m\u001b[39m.\u001b[39msampling_strategy, y, \u001b[39mself\u001b[39m\u001b[39m.\u001b[39m_sampling_type\n\u001b[1;32m    110\u001b[0m )\n\u001b[0;32m--> 112\u001b[0m output \u001b[39m=\u001b[39m \u001b[39mself\u001b[39;49m\u001b[39m.\u001b[39;49m_fit_resample(X, y)\n\u001b[1;32m    114\u001b[0m y_ \u001b[39m=\u001b[39m (\n\u001b[1;32m    115\u001b[0m     label_binarize(output[\u001b[39m1\u001b[39m], classes\u001b[39m=\u001b[39mnp\u001b[39m.\u001b[39munique(y)) \u001b[39mif\u001b[39;00m binarize_y \u001b[39melse\u001b[39;00m output[\u001b[39m1\u001b[39m]\n\u001b[1;32m    116\u001b[0m )\n\u001b[1;32m    118\u001b[0m X_, y_ \u001b[39m=\u001b[39m arrays_transformer\u001b[39m.\u001b[39mtransform(output[\u001b[39m0\u001b[39m], y_)\n",
      "File \u001b[0;32m~/miniconda3/lib/python3.9/site-packages/imblearn/over_sampling/_smote/base.py:989\u001b[0m, in \u001b[0;36mSMOTEN._fit_resample\u001b[0;34m(self, X, y)\u001b[0m\n\u001b[1;32m    986\u001b[0m target_class_indices \u001b[39m=\u001b[39m np\u001b[39m.\u001b[39mflatnonzero(y \u001b[39m==\u001b[39m class_sample)\n\u001b[1;32m    987\u001b[0m X_class \u001b[39m=\u001b[39m _safe_indexing(X_encoded, target_class_indices)\n\u001b[0;32m--> 989\u001b[0m X_class_dist \u001b[39m=\u001b[39m vdm\u001b[39m.\u001b[39;49mpairwise(X_class)\n\u001b[1;32m    990\u001b[0m \u001b[39mself\u001b[39m\u001b[39m.\u001b[39mnn_k_\u001b[39m.\u001b[39mfit(X_class_dist)\n\u001b[1;32m    991\u001b[0m \u001b[39m# the kneigbors search will include the sample itself which is\u001b[39;00m\n\u001b[1;32m    992\u001b[0m \u001b[39m# expected from the original algorithm\u001b[39;00m\n",
      "File \u001b[0;32m~/miniconda3/lib/python3.9/site-packages/imblearn/metrics/pairwise.py:227\u001b[0m, in \u001b[0;36mValueDifferenceMetric.pairwise\u001b[0;34m(self, X, Y)\u001b[0m\n\u001b[1;32m    224\u001b[0m     \u001b[39melse\u001b[39;00m:\n\u001b[1;32m    225\u001b[0m         proba_feature_Y \u001b[39m=\u001b[39m proba_feature_X\n\u001b[1;32m    226\u001b[0m     distance \u001b[39m+\u001b[39m\u001b[39m=\u001b[39m (\n\u001b[0;32m--> 227\u001b[0m         distance_matrix(proba_feature_X, proba_feature_Y, p\u001b[39m=\u001b[39;49m\u001b[39mself\u001b[39;49m\u001b[39m.\u001b[39;49mk) \u001b[39m*\u001b[39m\u001b[39m*\u001b[39m \u001b[39mself\u001b[39m\u001b[39m.\u001b[39mr\n\u001b[1;32m    228\u001b[0m     )\n\u001b[1;32m    229\u001b[0m \u001b[39mreturn\u001b[39;00m distance\n",
      "File \u001b[0;32m~/miniconda3/lib/python3.9/site-packages/scipy/spatial/_kdtree.py:900\u001b[0m, in \u001b[0;36mdistance_matrix\u001b[0;34m(x, y, p, threshold)\u001b[0m\n\u001b[1;32m    898\u001b[0m \u001b[39melse\u001b[39;00m:\n\u001b[1;32m    899\u001b[0m     \u001b[39mfor\u001b[39;00m j \u001b[39min\u001b[39;00m \u001b[39mrange\u001b[39m(n):\n\u001b[0;32m--> 900\u001b[0m         result[:,j] \u001b[39m=\u001b[39m minkowski_distance(x,y[j],p)\n\u001b[1;32m    901\u001b[0m \u001b[39mreturn\u001b[39;00m result\n",
      "File \u001b[0;32m~/miniconda3/lib/python3.9/site-packages/scipy/spatial/_kdtree.py:76\u001b[0m, in \u001b[0;36mminkowski_distance\u001b[0;34m(x, y, p)\u001b[0m\n\u001b[1;32m     74\u001b[0m y \u001b[39m=\u001b[39m np\u001b[39m.\u001b[39masarray(y)\n\u001b[1;32m     75\u001b[0m \u001b[39mif\u001b[39;00m p \u001b[39m==\u001b[39m np\u001b[39m.\u001b[39minf \u001b[39mor\u001b[39;00m p \u001b[39m==\u001b[39m \u001b[39m1\u001b[39m:\n\u001b[0;32m---> 76\u001b[0m     \u001b[39mreturn\u001b[39;00m minkowski_distance_p(x, y, p)\n\u001b[1;32m     77\u001b[0m \u001b[39melse\u001b[39;00m:\n\u001b[1;32m     78\u001b[0m     \u001b[39mreturn\u001b[39;00m minkowski_distance_p(x, y, p)\u001b[39m*\u001b[39m\u001b[39m*\u001b[39m(\u001b[39m1.\u001b[39m\u001b[39m/\u001b[39mp)\n",
      "File \u001b[0;32m~/miniconda3/lib/python3.9/site-packages/scipy/spatial/_kdtree.py:49\u001b[0m, in \u001b[0;36mminkowski_distance_p\u001b[0;34m(x, y, p)\u001b[0m\n\u001b[1;32m     47\u001b[0m     \u001b[39mreturn\u001b[39;00m np\u001b[39m.\u001b[39mamax(np\u001b[39m.\u001b[39mabs(y\u001b[39m-\u001b[39mx), axis\u001b[39m=\u001b[39m\u001b[39m-\u001b[39m\u001b[39m1\u001b[39m)\n\u001b[1;32m     48\u001b[0m \u001b[39melif\u001b[39;00m p \u001b[39m==\u001b[39m \u001b[39m1\u001b[39m:\n\u001b[0;32m---> 49\u001b[0m     \u001b[39mreturn\u001b[39;00m np\u001b[39m.\u001b[39msum(np\u001b[39m.\u001b[39mabs(y\u001b[39m-\u001b[39;49mx), axis\u001b[39m=\u001b[39m\u001b[39m-\u001b[39m\u001b[39m1\u001b[39m)\n\u001b[1;32m     50\u001b[0m \u001b[39melse\u001b[39;00m:\n\u001b[1;32m     51\u001b[0m     \u001b[39mreturn\u001b[39;00m np\u001b[39m.\u001b[39msum(np\u001b[39m.\u001b[39mabs(y\u001b[39m-\u001b[39mx)\u001b[39m*\u001b[39m\u001b[39m*\u001b[39mp, axis\u001b[39m=\u001b[39m\u001b[39m-\u001b[39m\u001b[39m1\u001b[39m)\n",
      "\u001b[0;31mKeyboardInterrupt\u001b[0m: "
     ]
    }
   ],
   "source": [
    "from collections import Counter\n",
    "from numpy.random import RandomState\n",
    "from sklearn.datasets import make_classification\n",
    "from imblearn.over_sampling import SMOTE\n",
    "from imblearn.over_sampling import SMOTENC # Numerical & Categorical\n",
    "from imblearn.over_sampling import SMOTEN # Categorical\n",
    "\n",
    "# X, y = make_classification(n_classes=2, class_sep=2, weights=[0.1, 0.9], n_informative=3, n_redundant=1, flip_y=0, n_features=20, n_clusters_per_class=1, n_samples=1000, random_state=10)\n",
    "print(f'Original dataset shape {X.shape}')\n",
    "print(f'Original dataset samples per class {Counter(y)}')\n",
    "\n",
    "# simulate the 2 last columns to be categorical features\n",
    "# X[:, -2:] = RandomState(10).randint(0, 4, size=(1000, 2))\n",
    "sm = SMOTEN(random_state=42) # took 406min(7hours)\n",
    "# sm = SMOTE(random_state=42)\n",
    "X_res, y_res = sm.fit_resample(X, y)\n",
    "print(f'Resampled dataset samples per class {Counter(y_res)}')"
   ]
  },
  {
   "cell_type": "code",
   "execution_count": null,
   "metadata": {},
   "outputs": [],
   "source": [
    "dict = {\"X_res\": X_res.tolist(), \"y_res\": y_res.tolist()}"
   ]
  },
  {
   "cell_type": "code",
   "execution_count": null,
   "metadata": {},
   "outputs": [],
   "source": [
    "# Serializing json\n",
    "json_object = json.dumps(dict, indent=4)\n",
    " \n",
    "# Writing to sample.json\n",
    "with open(\"data_bal.json\", \"w\") as outfile:\n",
    "    outfile.write(json_object)"
   ]
  }
 ],
 "metadata": {
  "kernelspec": {
   "display_name": "base",
   "language": "python",
   "name": "python3"
  },
  "language_info": {
   "codemirror_mode": {
    "name": "ipython",
    "version": 3
   },
   "file_extension": ".py",
   "mimetype": "text/x-python",
   "name": "python",
   "nbconvert_exporter": "python",
   "pygments_lexer": "ipython3",
   "version": "3.9.12"
  },
  "orig_nbformat": 4
 },
 "nbformat": 4,
 "nbformat_minor": 2
}
